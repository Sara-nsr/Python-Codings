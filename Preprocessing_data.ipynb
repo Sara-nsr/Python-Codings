{
  "nbformat": 4,
  "nbformat_minor": 0,
  "metadata": {
    "colab": {
      "name": "Preprocessing data.ipynb",
      "provenance": []
    },
    "kernelspec": {
      "name": "python3",
      "display_name": "Python 3"
    }
  },
  "cells": [
    {
      "cell_type": "code",
      "metadata": {
        "id": "06PZU0Kuv37o"
      },
      "source": [
        "import pandas as pd\n",
        "import numpy as np\n",
        "from sklearn import metrics \n",
        "from sklearn.linear_model import LogisticRegression\n",
        "from sklearn.model_selection import train_test_split"
      ],
      "execution_count": null,
      "outputs": []
    },
    {
      "cell_type": "code",
      "metadata": {
        "colab": {
          "base_uri": "https://localhost:8080/",
          "height": 713
        },
        "id": "ttL3PwNcwEx8",
        "outputId": "e290fb41-5b5f-4fda-9fea-33356081a85e"
      },
      "source": [
        "from google.colab import drive\n",
        "drive.mount('/content/drive')\n",
        "\n",
        "# df = pd.read_csv('/content/drive/MyDrive/train.csv', index_col=0, low_memory=False,skiprows=1,header=None)\n",
        "df = pd.read_csv('/content/drive/MyDrive/Round 3 Unbiased Scores.csv', index_col=0, low_memory=False, dtype=float)\n",
        "df.head()\n",
        "\n",
        "x = df.drop('Label',axis = 1)\n",
        "# y = df.Label\n",
        "print(x)\n",
        "\n",
        "weights = pd.Series([1, 1, 1, 1],index = ['Popularity score', 'Cubic Mvmt score', 'Variation score', 'PLC score'])\n",
        "F = x*weights\n",
        "print(F)\n",
        "\n",
        "F['Sum'] = F.sum(axis=1)\n",
        "F.head()\n",
        "\n"
      ],
      "execution_count": null,
      "outputs": [
        {
          "output_type": "stream",
          "text": [
            "Drive already mounted at /content/drive; to attempt to forcibly remount, call drive.mount(\"/content/drive\", force_remount=True).\n",
            "        Popularity score  Cubic Mvmt score  Variation score  PLC score\n",
            "0.0               0.2275          0.030162           0.1700   0.000743\n",
            "1.0               0.0100          0.001828           0.0050   0.024096\n",
            "2.0               0.2400          0.047551           0.2400   0.000125\n",
            "3.0               0.0200          0.003913           0.0100   0.018037\n",
            "4.0               0.2575          0.164219           0.2475   0.007570\n",
            "...                  ...               ...              ...        ...\n",
            "3864.0            0.0000          0.000014           0.0000   0.077572\n",
            "3865.0            0.0800          0.020163           0.1250   0.002902\n",
            "3866.0            0.2575          0.162146           0.2475   0.007337\n",
            "3867.0            0.2400          0.045845           0.2400   0.000090\n",
            "3868.0            0.2375          0.041070           0.2375   0.000143\n",
            "\n",
            "[3869 rows x 4 columns]\n",
            "        Popularity score  Cubic Mvmt score  Variation score  PLC score\n",
            "0.0               0.2275          0.030162           0.1700   0.000743\n",
            "1.0               0.0100          0.001828           0.0050   0.024096\n",
            "2.0               0.2400          0.047551           0.2400   0.000125\n",
            "3.0               0.0200          0.003913           0.0100   0.018037\n",
            "4.0               0.2575          0.164219           0.2475   0.007570\n",
            "...                  ...               ...              ...        ...\n",
            "3864.0            0.0000          0.000014           0.0000   0.077572\n",
            "3865.0            0.0800          0.020163           0.1250   0.002902\n",
            "3866.0            0.2575          0.162146           0.2475   0.007337\n",
            "3867.0            0.2400          0.045845           0.2400   0.000090\n",
            "3868.0            0.2375          0.041070           0.2375   0.000143\n",
            "\n",
            "[3869 rows x 4 columns]\n"
          ],
          "name": "stdout"
        },
        {
          "output_type": "execute_result",
          "data": {
            "text/html": [
              "<div>\n",
              "<style scoped>\n",
              "    .dataframe tbody tr th:only-of-type {\n",
              "        vertical-align: middle;\n",
              "    }\n",
              "\n",
              "    .dataframe tbody tr th {\n",
              "        vertical-align: top;\n",
              "    }\n",
              "\n",
              "    .dataframe thead th {\n",
              "        text-align: right;\n",
              "    }\n",
              "</style>\n",
              "<table border=\"1\" class=\"dataframe\">\n",
              "  <thead>\n",
              "    <tr style=\"text-align: right;\">\n",
              "      <th></th>\n",
              "      <th>Popularity score</th>\n",
              "      <th>Cubic Mvmt score</th>\n",
              "      <th>Variation score</th>\n",
              "      <th>PLC score</th>\n",
              "      <th>Sum</th>\n",
              "    </tr>\n",
              "  </thead>\n",
              "  <tbody>\n",
              "    <tr>\n",
              "      <th>0.0</th>\n",
              "      <td>0.2275</td>\n",
              "      <td>0.030162</td>\n",
              "      <td>0.1700</td>\n",
              "      <td>0.000743</td>\n",
              "      <td>0.428405</td>\n",
              "    </tr>\n",
              "    <tr>\n",
              "      <th>1.0</th>\n",
              "      <td>0.0100</td>\n",
              "      <td>0.001828</td>\n",
              "      <td>0.0050</td>\n",
              "      <td>0.024096</td>\n",
              "      <td>0.040923</td>\n",
              "    </tr>\n",
              "    <tr>\n",
              "      <th>2.0</th>\n",
              "      <td>0.2400</td>\n",
              "      <td>0.047551</td>\n",
              "      <td>0.2400</td>\n",
              "      <td>0.000125</td>\n",
              "      <td>0.527676</td>\n",
              "    </tr>\n",
              "    <tr>\n",
              "      <th>3.0</th>\n",
              "      <td>0.0200</td>\n",
              "      <td>0.003913</td>\n",
              "      <td>0.0100</td>\n",
              "      <td>0.018037</td>\n",
              "      <td>0.051950</td>\n",
              "    </tr>\n",
              "    <tr>\n",
              "      <th>4.0</th>\n",
              "      <td>0.2575</td>\n",
              "      <td>0.164219</td>\n",
              "      <td>0.2475</td>\n",
              "      <td>0.007570</td>\n",
              "      <td>0.676789</td>\n",
              "    </tr>\n",
              "  </tbody>\n",
              "</table>\n",
              "</div>"
            ],
            "text/plain": [
              "     Popularity score  Cubic Mvmt score  Variation score  PLC score       Sum\n",
              "0.0            0.2275          0.030162           0.1700   0.000743  0.428405\n",
              "1.0            0.0100          0.001828           0.0050   0.024096  0.040923\n",
              "2.0            0.2400          0.047551           0.2400   0.000125  0.527676\n",
              "3.0            0.0200          0.003913           0.0100   0.018037  0.051950\n",
              "4.0            0.2575          0.164219           0.2475   0.007570  0.676789"
            ]
          },
          "metadata": {
            "tags": []
          },
          "execution_count": 30
        }
      ]
    }
  ]
}