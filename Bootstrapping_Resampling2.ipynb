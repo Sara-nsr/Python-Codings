{
  "nbformat": 4,
  "nbformat_minor": 0,
  "metadata": {
    "colab": {
      "name": "Bootstrapping Resampling2.ipynb",
      "provenance": [],
      "collapsed_sections": []
    },
    "kernelspec": {
      "name": "python3",
      "display_name": "Python 3"
    },
    "accelerator": "GPU"
  },
  "cells": [
    {
      "cell_type": "code",
      "metadata": {
        "id": "XRx7ALDZ5h_I"
      },
      "source": [
        "import pandas as pd\n",
        "import numpy as np"
      ],
      "execution_count": null,
      "outputs": []
    },
    {
      "cell_type": "code",
      "metadata": {
        "id": "qauZO9Bm4gL6"
      },
      "source": [
        "def bootstrap_resample(X, n=20000):\n",
        "    \"\"\" Bootstrap resample an array_like\n",
        "    Parameters\n",
        "    ----------\n",
        "    X : array_like\n",
        "      data to resample\n",
        "    n : int, optional\n",
        "      length of resampled array, equal to len(X) if n==None\n",
        "    Results\n",
        "    -------\n",
        "    returns X_resamples\n",
        "    \"\"\"\n",
        "    if isinstance(X, pd.Series):#Is data in excel table format\n",
        "        X = X.copy()\n",
        "        X.index = range(len(X.index))\n",
        "    if n == None:\n",
        "        n = len(X)\n",
        "        \n",
        "    resample_i = np.floor(np.random.rand(n)*len(X)).astype(int)\n",
        "    X_resample = np.array(X[resample_i])  # TODO: write a test demonstrating why array() is important\n",
        "    return X_resample\n",
        "# test_bsr_on_df()"
      ],
      "execution_count": null,
      "outputs": []
    },
    {
      "cell_type": "code",
      "metadata": {
        "colab": {
          "base_uri": "https://localhost:8080/"
        },
        "id": "SDiynSP24mEk",
        "outputId": "c57457c0-9693-4d51-f428-127362ca5584"
      },
      "source": [
        "from google.colab import drive\n",
        "drive.mount('/content/drive')\n",
        "# df = pd.read_csv('/content/drive/MyDrive/train.csv', index_col=0, low_memory=False,skiprows=1,header=None)\n",
        "df = pd.read_csv('/content/drive/MyDrive/score original data with full range2.csv', index_col=0, low_memory=False, dtype=float)"
      ],
      "execution_count": null,
      "outputs": [
        {
          "output_type": "stream",
          "text": [
            "Drive already mounted at /content/drive; to attempt to forcibly remount, call drive.mount(\"/content/drive\", force_remount=True).\n"
          ],
          "name": "stdout"
        }
      ]
    },
    {
      "cell_type": "code",
      "metadata": {
        "colab": {
          "base_uri": "https://localhost:8080/"
        },
        "id": "-YonQ6-g4oS7",
        "outputId": "9705c2f0-11d2-45ab-e209-35a5a929899c"
      },
      "source": [
        "# moderately large file, for a single state/year\n",
        "df.shape\n",
        "print(df.columns)\n",
        "# print(df.columns[1:])\n",
        "# print(df)\n",
        "# print(df[col])"
      ],
      "execution_count": null,
      "outputs": [
        {
          "output_type": "stream",
          "text": [
            "Index(['a', 'b', 'c', 'd', 'e', 'f'], dtype='object')\n"
          ],
          "name": "stdout"
        }
      ]
    },
    {
      "cell_type": "code",
      "metadata": {
        "colab": {
          "base_uri": "https://localhost:8080/"
        },
        "id": "J1EXZyy-4rFJ",
        "outputId": "9dbd88c4-4482-40ac-e971-85237a9217ba"
      },
      "source": [
        "from array import array\n",
        "print(df.index)\n",
        "df_resampled = pd.DataFrame( columns=df.columns, dtype=float)\n",
        "# df_resampled = pd.DataFrame(data=dict,index=df.index, columns=df.columns, dtype=None)"
      ],
      "execution_count": null,
      "outputs": [
        {
          "output_type": "stream",
          "text": [
            "Float64Index([ 0.0,  1.0,  2.0,  3.0,  4.0,  5.0,  6.0,  7.0,  8.0,  9.0, 10.0,\n",
            "              11.0, 12.0, 13.0, 14.0, 15.0, 16.0, 17.0, 18.0, 19.0, 20.0, 21.0,\n",
            "              22.0, 23.0, 24.0, 25.0, 26.0, 27.0, 28.0, 29.0, 30.0, 31.0, 32.0,\n",
            "              33.0, 34.0, 35.0, 36.0, 37.0, 38.0, 39.0, 40.0, 41.0, 42.0, 43.0,\n",
            "              44.0, 45.0, 46.0, 47.0, 48.0, 49.0, 50.0, 51.0, 52.0, 53.0, 54.0,\n",
            "              55.0, 56.0, 57.0, 58.0, 59.0, 60.0, 61.0, 62.0, 63.0, 64.0, 65.0,\n",
            "              66.0, 67.0, 68.0, 69.0, 70.0, 71.0, 72.0, 73.0, 74.0, 75.0, 76.0,\n",
            "              77.0, 78.0, 79.0, 80.0, 81.0, 82.0, 83.0, 84.0, 85.0, 86.0, 87.0,\n",
            "              88.0, 89.0, 90.0, 91.0, 92.0, 93.0, 94.0, 95.0, 96.0, 97.0, 98.0,\n",
            "              99.0],\n",
            "             dtype='float64')\n"
          ],
          "name": "stdout"
        }
      ]
    },
    {
      "cell_type": "code",
      "metadata": {
        "id": "rPCkX3cB4s9e"
      },
      "source": [
        "for col in df.columns:\n",
        "    df_resampled[col] = bootstrap_resample(df[col])"
      ],
      "execution_count": null,
      "outputs": []
    },
    {
      "cell_type": "code",
      "metadata": {
        "id": "Yd25CiIp4xaz",
        "colab": {
          "base_uri": "https://localhost:8080/",
          "height": 406
        },
        "outputId": "8e70b4e6-38f1-43be-ac12-c0cb60a8a329"
      },
      "source": [
        "df"
      ],
      "execution_count": null,
      "outputs": [
        {
          "output_type": "execute_result",
          "data": {
            "text/html": [
              "<div>\n",
              "<style scoped>\n",
              "    .dataframe tbody tr th:only-of-type {\n",
              "        vertical-align: middle;\n",
              "    }\n",
              "\n",
              "    .dataframe tbody tr th {\n",
              "        vertical-align: top;\n",
              "    }\n",
              "\n",
              "    .dataframe thead th {\n",
              "        text-align: right;\n",
              "    }\n",
              "</style>\n",
              "<table border=\"1\" class=\"dataframe\">\n",
              "  <thead>\n",
              "    <tr style=\"text-align: right;\">\n",
              "      <th></th>\n",
              "      <th>a</th>\n",
              "      <th>b</th>\n",
              "      <th>c</th>\n",
              "      <th>d</th>\n",
              "      <th>e</th>\n",
              "      <th>f</th>\n",
              "    </tr>\n",
              "  </thead>\n",
              "  <tbody>\n",
              "    <tr>\n",
              "      <th>0.0</th>\n",
              "      <td>192.0</td>\n",
              "      <td>120000.0</td>\n",
              "      <td>100.0</td>\n",
              "      <td>41.67</td>\n",
              "      <td>0.00</td>\n",
              "      <td>0.00</td>\n",
              "    </tr>\n",
              "    <tr>\n",
              "      <th>1.0</th>\n",
              "      <td>72.0</td>\n",
              "      <td>108000.0</td>\n",
              "      <td>6.0</td>\n",
              "      <td>92.59</td>\n",
              "      <td>0.00</td>\n",
              "      <td>0.00</td>\n",
              "    </tr>\n",
              "    <tr>\n",
              "      <th>2.0</th>\n",
              "      <td>180.0</td>\n",
              "      <td>90450.0</td>\n",
              "      <td>100.0</td>\n",
              "      <td>165.84</td>\n",
              "      <td>0.00</td>\n",
              "      <td>0.00</td>\n",
              "    </tr>\n",
              "    <tr>\n",
              "      <th>3.0</th>\n",
              "      <td>120.0</td>\n",
              "      <td>640000.0</td>\n",
              "      <td>3.0</td>\n",
              "      <td>51.56</td>\n",
              "      <td>0.16</td>\n",
              "      <td>0.04</td>\n",
              "    </tr>\n",
              "    <tr>\n",
              "      <th>4.0</th>\n",
              "      <td>120.0</td>\n",
              "      <td>144000.0</td>\n",
              "      <td>1.0</td>\n",
              "      <td>104.17</td>\n",
              "      <td>0.16</td>\n",
              "      <td>0.12</td>\n",
              "    </tr>\n",
              "    <tr>\n",
              "      <th>...</th>\n",
              "      <td>...</td>\n",
              "      <td>...</td>\n",
              "      <td>...</td>\n",
              "      <td>...</td>\n",
              "      <td>...</td>\n",
              "      <td>...</td>\n",
              "    </tr>\n",
              "    <tr>\n",
              "      <th>95.0</th>\n",
              "      <td>346.0</td>\n",
              "      <td>355636.0</td>\n",
              "      <td>33.0</td>\n",
              "      <td>145.00</td>\n",
              "      <td>0.45</td>\n",
              "      <td>0.22</td>\n",
              "    </tr>\n",
              "    <tr>\n",
              "      <th>96.0</th>\n",
              "      <td>533.0</td>\n",
              "      <td>629439.0</td>\n",
              "      <td>87.0</td>\n",
              "      <td>165.00</td>\n",
              "      <td>0.57</td>\n",
              "      <td>0.75</td>\n",
              "    </tr>\n",
              "    <tr>\n",
              "      <th>97.0</th>\n",
              "      <td>326.0</td>\n",
              "      <td>481405.0</td>\n",
              "      <td>97.0</td>\n",
              "      <td>146.00</td>\n",
              "      <td>0.29</td>\n",
              "      <td>0.50</td>\n",
              "    </tr>\n",
              "    <tr>\n",
              "      <th>98.0</th>\n",
              "      <td>480.0</td>\n",
              "      <td>573691.0</td>\n",
              "      <td>97.0</td>\n",
              "      <td>132.00</td>\n",
              "      <td>0.69</td>\n",
              "      <td>0.26</td>\n",
              "    </tr>\n",
              "    <tr>\n",
              "      <th>99.0</th>\n",
              "      <td>548.0</td>\n",
              "      <td>294996.0</td>\n",
              "      <td>92.0</td>\n",
              "      <td>162.00</td>\n",
              "      <td>0.43</td>\n",
              "      <td>0.86</td>\n",
              "    </tr>\n",
              "  </tbody>\n",
              "</table>\n",
              "<p>100 rows × 6 columns</p>\n",
              "</div>"
            ],
            "text/plain": [
              "          a         b      c       d     e     f\n",
              "0.0   192.0  120000.0  100.0   41.67  0.00  0.00\n",
              "1.0    72.0  108000.0    6.0   92.59  0.00  0.00\n",
              "2.0   180.0   90450.0  100.0  165.84  0.00  0.00\n",
              "3.0   120.0  640000.0    3.0   51.56  0.16  0.04\n",
              "4.0   120.0  144000.0    1.0  104.17  0.16  0.12\n",
              "...     ...       ...    ...     ...   ...   ...\n",
              "95.0  346.0  355636.0   33.0  145.00  0.45  0.22\n",
              "96.0  533.0  629439.0   87.0  165.00  0.57  0.75\n",
              "97.0  326.0  481405.0   97.0  146.00  0.29  0.50\n",
              "98.0  480.0  573691.0   97.0  132.00  0.69  0.26\n",
              "99.0  548.0  294996.0   92.0  162.00  0.43  0.86\n",
              "\n",
              "[100 rows x 6 columns]"
            ]
          },
          "metadata": {
            "tags": []
          },
          "execution_count": 17
        }
      ]
    },
    {
      "cell_type": "code",
      "metadata": {
        "id": "bFnpLkAY4yG6",
        "colab": {
          "base_uri": "https://localhost:8080/",
          "height": 406
        },
        "outputId": "7db369a8-7377-4118-bee4-4ab1a8f70727"
      },
      "source": [
        "df_resampled"
      ],
      "execution_count": null,
      "outputs": [
        {
          "output_type": "execute_result",
          "data": {
            "text/html": [
              "<div>\n",
              "<style scoped>\n",
              "    .dataframe tbody tr th:only-of-type {\n",
              "        vertical-align: middle;\n",
              "    }\n",
              "\n",
              "    .dataframe tbody tr th {\n",
              "        vertical-align: top;\n",
              "    }\n",
              "\n",
              "    .dataframe thead th {\n",
              "        text-align: right;\n",
              "    }\n",
              "</style>\n",
              "<table border=\"1\" class=\"dataframe\">\n",
              "  <thead>\n",
              "    <tr style=\"text-align: right;\">\n",
              "      <th></th>\n",
              "      <th>a</th>\n",
              "      <th>b</th>\n",
              "      <th>c</th>\n",
              "      <th>d</th>\n",
              "      <th>e</th>\n",
              "      <th>f</th>\n",
              "    </tr>\n",
              "  </thead>\n",
              "  <tbody>\n",
              "    <tr>\n",
              "      <th>0</th>\n",
              "      <td>303.0</td>\n",
              "      <td>257331.0</td>\n",
              "      <td>39.0</td>\n",
              "      <td>152.0</td>\n",
              "      <td>0.31</td>\n",
              "      <td>0.64</td>\n",
              "    </tr>\n",
              "    <tr>\n",
              "      <th>1</th>\n",
              "      <td>370.0</td>\n",
              "      <td>339240.0</td>\n",
              "      <td>50.0</td>\n",
              "      <td>126.0</td>\n",
              "      <td>0.21</td>\n",
              "      <td>0.42</td>\n",
              "    </tr>\n",
              "    <tr>\n",
              "      <th>2</th>\n",
              "      <td>466.0</td>\n",
              "      <td>388934.0</td>\n",
              "      <td>76.0</td>\n",
              "      <td>112.5</td>\n",
              "      <td>0.80</td>\n",
              "      <td>0.17</td>\n",
              "    </tr>\n",
              "    <tr>\n",
              "      <th>3</th>\n",
              "      <td>372.0</td>\n",
              "      <td>422064.0</td>\n",
              "      <td>98.0</td>\n",
              "      <td>165.0</td>\n",
              "      <td>0.80</td>\n",
              "      <td>0.74</td>\n",
              "    </tr>\n",
              "    <tr>\n",
              "      <th>4</th>\n",
              "      <td>402.0</td>\n",
              "      <td>314627.0</td>\n",
              "      <td>88.0</td>\n",
              "      <td>158.0</td>\n",
              "      <td>0.19</td>\n",
              "      <td>0.58</td>\n",
              "    </tr>\n",
              "    <tr>\n",
              "      <th>...</th>\n",
              "      <td>...</td>\n",
              "      <td>...</td>\n",
              "      <td>...</td>\n",
              "      <td>...</td>\n",
              "      <td>...</td>\n",
              "      <td>...</td>\n",
              "    </tr>\n",
              "    <tr>\n",
              "      <th>19995</th>\n",
              "      <td>508.0</td>\n",
              "      <td>256845.0</td>\n",
              "      <td>95.0</td>\n",
              "      <td>57.0</td>\n",
              "      <td>0.32</td>\n",
              "      <td>0.26</td>\n",
              "    </tr>\n",
              "    <tr>\n",
              "      <th>19996</th>\n",
              "      <td>24.0</td>\n",
              "      <td>638231.0</td>\n",
              "      <td>41.0</td>\n",
              "      <td>143.0</td>\n",
              "      <td>0.50</td>\n",
              "      <td>0.05</td>\n",
              "    </tr>\n",
              "    <tr>\n",
              "      <th>19997</th>\n",
              "      <td>120.0</td>\n",
              "      <td>360000.0</td>\n",
              "      <td>78.0</td>\n",
              "      <td>52.0</td>\n",
              "      <td>1.00</td>\n",
              "      <td>0.18</td>\n",
              "    </tr>\n",
              "    <tr>\n",
              "      <th>19998</th>\n",
              "      <td>96.0</td>\n",
              "      <td>629439.0</td>\n",
              "      <td>32.0</td>\n",
              "      <td>160.0</td>\n",
              "      <td>0.32</td>\n",
              "      <td>0.16</td>\n",
              "    </tr>\n",
              "    <tr>\n",
              "      <th>19999</th>\n",
              "      <td>24.0</td>\n",
              "      <td>414777.0</td>\n",
              "      <td>82.0</td>\n",
              "      <td>132.0</td>\n",
              "      <td>0.96</td>\n",
              "      <td>0.05</td>\n",
              "    </tr>\n",
              "  </tbody>\n",
              "</table>\n",
              "<p>20000 rows × 6 columns</p>\n",
              "</div>"
            ],
            "text/plain": [
              "           a         b     c      d     e     f\n",
              "0      303.0  257331.0  39.0  152.0  0.31  0.64\n",
              "1      370.0  339240.0  50.0  126.0  0.21  0.42\n",
              "2      466.0  388934.0  76.0  112.5  0.80  0.17\n",
              "3      372.0  422064.0  98.0  165.0  0.80  0.74\n",
              "4      402.0  314627.0  88.0  158.0  0.19  0.58\n",
              "...      ...       ...   ...    ...   ...   ...\n",
              "19995  508.0  256845.0  95.0   57.0  0.32  0.26\n",
              "19996   24.0  638231.0  41.0  143.0  0.50  0.05\n",
              "19997  120.0  360000.0  78.0   52.0  1.00  0.18\n",
              "19998   96.0  629439.0  32.0  160.0  0.32  0.16\n",
              "19999   24.0  414777.0  82.0  132.0  0.96  0.05\n",
              "\n",
              "[20000 rows x 6 columns]"
            ]
          },
          "metadata": {
            "tags": []
          },
          "execution_count": 18
        }
      ]
    },
    {
      "cell_type": "code",
      "metadata": {
        "id": "JhYf0jNq41ZT"
      },
      "source": [
        "# df['Popularityscore'] = df['Popularityscore'].astype(float)\n",
        "# df.Popularityscore.mean(), df_resampled.Popularityscore.mean()\n"
      ],
      "execution_count": null,
      "outputs": []
    },
    {
      "cell_type": "code",
      "metadata": {
        "colab": {
          "base_uri": "https://localhost:8080/",
          "height": 292
        },
        "id": "WxQOZ3pdiJD1",
        "outputId": "c71bd464-149a-4eac-8def-e816f9a8b37f"
      },
      "source": [
        "# df.Popularityscore.std(), df_resampled.Popularityscore.std()"
      ],
      "execution_count": null,
      "outputs": [
        {
          "output_type": "error",
          "ename": "AttributeError",
          "evalue": "ignored",
          "traceback": [
            "\u001b[0;31m---------------------------------------------------------------------------\u001b[0m",
            "\u001b[0;31mAttributeError\u001b[0m                            Traceback (most recent call last)",
            "\u001b[0;32m<ipython-input-20-4555fa78e825>\u001b[0m in \u001b[0;36m<module>\u001b[0;34m()\u001b[0m\n\u001b[0;32m----> 1\u001b[0;31m \u001b[0mdf\u001b[0m\u001b[0;34m.\u001b[0m\u001b[0mPopularityscore\u001b[0m\u001b[0;34m.\u001b[0m\u001b[0mstd\u001b[0m\u001b[0;34m(\u001b[0m\u001b[0;34m)\u001b[0m\u001b[0;34m,\u001b[0m \u001b[0mdf_resampled\u001b[0m\u001b[0;34m.\u001b[0m\u001b[0mPopularityscore\u001b[0m\u001b[0;34m.\u001b[0m\u001b[0mstd\u001b[0m\u001b[0;34m(\u001b[0m\u001b[0;34m)\u001b[0m\u001b[0;34m\u001b[0m\u001b[0;34m\u001b[0m\u001b[0m\n\u001b[0m",
            "\u001b[0;32m/usr/local/lib/python3.6/dist-packages/pandas/core/generic.py\u001b[0m in \u001b[0;36m__getattr__\u001b[0;34m(self, name)\u001b[0m\n\u001b[1;32m   5139\u001b[0m             \u001b[0;32mif\u001b[0m \u001b[0mself\u001b[0m\u001b[0;34m.\u001b[0m\u001b[0m_info_axis\u001b[0m\u001b[0;34m.\u001b[0m\u001b[0m_can_hold_identifiers_and_holds_name\u001b[0m\u001b[0;34m(\u001b[0m\u001b[0mname\u001b[0m\u001b[0;34m)\u001b[0m\u001b[0;34m:\u001b[0m\u001b[0;34m\u001b[0m\u001b[0;34m\u001b[0m\u001b[0m\n\u001b[1;32m   5140\u001b[0m                 \u001b[0;32mreturn\u001b[0m \u001b[0mself\u001b[0m\u001b[0;34m[\u001b[0m\u001b[0mname\u001b[0m\u001b[0;34m]\u001b[0m\u001b[0;34m\u001b[0m\u001b[0;34m\u001b[0m\u001b[0m\n\u001b[0;32m-> 5141\u001b[0;31m             \u001b[0;32mreturn\u001b[0m \u001b[0mobject\u001b[0m\u001b[0;34m.\u001b[0m\u001b[0m__getattribute__\u001b[0m\u001b[0;34m(\u001b[0m\u001b[0mself\u001b[0m\u001b[0;34m,\u001b[0m \u001b[0mname\u001b[0m\u001b[0;34m)\u001b[0m\u001b[0;34m\u001b[0m\u001b[0;34m\u001b[0m\u001b[0m\n\u001b[0m\u001b[1;32m   5142\u001b[0m \u001b[0;34m\u001b[0m\u001b[0m\n\u001b[1;32m   5143\u001b[0m     \u001b[0;32mdef\u001b[0m \u001b[0m__setattr__\u001b[0m\u001b[0;34m(\u001b[0m\u001b[0mself\u001b[0m\u001b[0;34m,\u001b[0m \u001b[0mname\u001b[0m\u001b[0;34m:\u001b[0m \u001b[0mstr\u001b[0m\u001b[0;34m,\u001b[0m \u001b[0mvalue\u001b[0m\u001b[0;34m)\u001b[0m \u001b[0;34m->\u001b[0m \u001b[0;32mNone\u001b[0m\u001b[0;34m:\u001b[0m\u001b[0;34m\u001b[0m\u001b[0;34m\u001b[0m\u001b[0m\n",
            "\u001b[0;31mAttributeError\u001b[0m: 'DataFrame' object has no attribute 'Popularityscore'"
          ]
        }
      ]
    },
    {
      "cell_type": "code",
      "metadata": {
        "id": "WB9iGWNgiOa-"
      },
      "source": [
        "# df.Popularityscore.skew(), df_resampled.Popularityscore.skew()"
      ],
      "execution_count": null,
      "outputs": []
    },
    {
      "cell_type": "code",
      "metadata": {
        "id": "mqIjHSlqimbQ"
      },
      "source": [
        "# df.Popularityscore.kurtosis(), df_resampled.Popularityscore.kurtosis()"
      ],
      "execution_count": null,
      "outputs": []
    },
    {
      "cell_type": "code",
      "metadata": {
        "id": "FRi3rdxZ43Qb"
      },
      "source": [
        "df_resampled.to_csv('/content/drive/MyDrive/resampleoriginal2.csv')"
      ],
      "execution_count": null,
      "outputs": []
    }
  ]
}