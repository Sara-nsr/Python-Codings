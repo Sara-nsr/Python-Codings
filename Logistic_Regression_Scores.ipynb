{
  "nbformat": 4,
  "nbformat_minor": 0,
  "metadata": {
    "colab": {
      "name": "Logistic Regression Scores.ipynb",
      "provenance": []
    },
    "kernelspec": {
      "name": "python3",
      "display_name": "Python 3"
    }
  },
  "cells": [
    {
      "cell_type": "code",
      "metadata": {
        "id": "4LGTx5F4btBs"
      },
      "source": [
        "import pandas as pd\n",
        "import numpy as np\n",
        "from sklearn import metrics \n",
        "from sklearn.linear_model import LogisticRegression\n",
        "from sklearn.model_selection import train_test_split"
      ],
      "execution_count": null,
      "outputs": []
    },
    {
      "cell_type": "code",
      "metadata": {
        "colab": {
          "base_uri": "https://localhost:8080/",
          "height": 215
        },
        "id": "SdhRgOXpbz9q",
        "outputId": "ce59d710-73d4-4338-f70b-4a86d8bf6e51"
      },
      "source": [
        "from google.colab import drive\n",
        "drive.mount('/content/drive')\n",
        "# df = pd.read_csv('/content/drive/MyDrive/train.csv', index_col=0, low_memory=False,skiprows=1,header=None)\n",
        "df = pd.read_csv('/content/drive/MyDrive/Round 3 Unbiased Scores.csv', index_col=0, low_memory=False, dtype=float)\n",
        "\n",
        "\n",
        "# data = pd.read_csv(\"data.csv\")\n",
        "# data.head()\n",
        "\n",
        "# df = pd.read_csv('Student-Pass-Fail-Data.csv')\n",
        "df.head()"
      ],
      "execution_count": null,
      "outputs": [
        {
          "output_type": "stream",
          "text": [
            "Mounted at /content/drive\n"
          ],
          "name": "stdout"
        },
        {
          "output_type": "execute_result",
          "data": {
            "text/html": [
              "<div>\n",
              "<style scoped>\n",
              "    .dataframe tbody tr th:only-of-type {\n",
              "        vertical-align: middle;\n",
              "    }\n",
              "\n",
              "    .dataframe tbody tr th {\n",
              "        vertical-align: top;\n",
              "    }\n",
              "\n",
              "    .dataframe thead th {\n",
              "        text-align: right;\n",
              "    }\n",
              "</style>\n",
              "<table border=\"1\" class=\"dataframe\">\n",
              "  <thead>\n",
              "    <tr style=\"text-align: right;\">\n",
              "      <th></th>\n",
              "      <th>Popularity score</th>\n",
              "      <th>Cubic Mvmt score</th>\n",
              "      <th>Variation score</th>\n",
              "      <th>PLC score</th>\n",
              "      <th>Label</th>\n",
              "    </tr>\n",
              "  </thead>\n",
              "  <tbody>\n",
              "    <tr>\n",
              "      <th>0.0</th>\n",
              "      <td>0.2275</td>\n",
              "      <td>0.030162</td>\n",
              "      <td>0.1700</td>\n",
              "      <td>0.000743</td>\n",
              "      <td>0.0</td>\n",
              "    </tr>\n",
              "    <tr>\n",
              "      <th>1.0</th>\n",
              "      <td>0.0100</td>\n",
              "      <td>0.001828</td>\n",
              "      <td>0.0050</td>\n",
              "      <td>0.024096</td>\n",
              "      <td>0.0</td>\n",
              "    </tr>\n",
              "    <tr>\n",
              "      <th>2.0</th>\n",
              "      <td>0.2400</td>\n",
              "      <td>0.047551</td>\n",
              "      <td>0.2400</td>\n",
              "      <td>0.000125</td>\n",
              "      <td>1.0</td>\n",
              "    </tr>\n",
              "    <tr>\n",
              "      <th>3.0</th>\n",
              "      <td>0.0200</td>\n",
              "      <td>0.003913</td>\n",
              "      <td>0.0100</td>\n",
              "      <td>0.018037</td>\n",
              "      <td>0.0</td>\n",
              "    </tr>\n",
              "    <tr>\n",
              "      <th>4.0</th>\n",
              "      <td>0.2575</td>\n",
              "      <td>0.164219</td>\n",
              "      <td>0.2475</td>\n",
              "      <td>0.007570</td>\n",
              "      <td>1.0</td>\n",
              "    </tr>\n",
              "  </tbody>\n",
              "</table>\n",
              "</div>"
            ],
            "text/plain": [
              "     Popularity score  Cubic Mvmt score  Variation score  PLC score  Label\n",
              "0.0            0.2275          0.030162           0.1700   0.000743    0.0\n",
              "1.0            0.0100          0.001828           0.0050   0.024096    0.0\n",
              "2.0            0.2400          0.047551           0.2400   0.000125    1.0\n",
              "3.0            0.0200          0.003913           0.0100   0.018037    0.0\n",
              "4.0            0.2575          0.164219           0.2475   0.007570    1.0"
            ]
          },
          "metadata": {
            "tags": []
          },
          "execution_count": 2
        }
      ]
    },
    {
      "cell_type": "code",
      "metadata": {
        "colab": {
          "base_uri": "https://localhost:8080/"
        },
        "id": "H-F4taqXb1wc",
        "outputId": "2366a975-b0e8-4170-acaf-a2f8cf775bea"
      },
      "source": [
        "x = df.drop('Label',axis = 1)\n",
        "y = df.Label\n",
        "print(x)"
      ],
      "execution_count": null,
      "outputs": [
        {
          "output_type": "stream",
          "text": [
            "        Popularity score  Cubic Mvmt score  Variation score  PLC score\n",
            "0.0               0.2275          0.030162           0.1700   0.000743\n",
            "1.0               0.0100          0.001828           0.0050   0.024096\n",
            "2.0               0.2400          0.047551           0.2400   0.000125\n",
            "3.0               0.0200          0.003913           0.0100   0.018037\n",
            "4.0               0.2575          0.164219           0.2475   0.007570\n",
            "...                  ...               ...              ...        ...\n",
            "3864.0            0.0000          0.000014           0.0000   0.077572\n",
            "3865.0            0.0800          0.020163           0.1250   0.002902\n",
            "3866.0            0.2575          0.162146           0.2475   0.007337\n",
            "3867.0            0.2400          0.045845           0.2400   0.000090\n",
            "3868.0            0.2375          0.041070           0.2375   0.000143\n",
            "\n",
            "[3869 rows x 4 columns]\n"
          ],
          "name": "stdout"
        }
      ]
    },
    {
      "cell_type": "code",
      "metadata": {
        "id": "W5IH5yGndMlE"
      },
      "source": [
        "x_train, x_test, y_train, y_test = train_test_split(x, y, random_state=4)"
      ],
      "execution_count": null,
      "outputs": []
    },
    {
      "cell_type": "code",
      "metadata": {
        "id": "6J86P-UqdSaD"
      },
      "source": [
        "logistic_regression = LogisticRegression()"
      ],
      "execution_count": null,
      "outputs": []
    },
    {
      "cell_type": "code",
      "metadata": {
        "colab": {
          "base_uri": "https://localhost:8080/"
        },
        "id": "EFGuEHYcdt45",
        "outputId": "9546e783-7494-4afa-de75-3df68b1d1ef5"
      },
      "source": [
        "logistic_regression.fit(x_train, y_train)"
      ],
      "execution_count": null,
      "outputs": [
        {
          "output_type": "execute_result",
          "data": {
            "text/plain": [
              "LogisticRegression(C=1.0, class_weight=None, dual=False, fit_intercept=True,\n",
              "                   intercept_scaling=1, l1_ratio=None, max_iter=100,\n",
              "                   multi_class='auto', n_jobs=None, penalty='l2',\n",
              "                   random_state=None, solver='lbfgs', tol=0.0001, verbose=0,\n",
              "                   warm_start=False)"
            ]
          },
          "metadata": {
            "tags": []
          },
          "execution_count": 8
        }
      ]
    },
    {
      "cell_type": "code",
      "metadata": {
        "id": "KdYYBVrNd520"
      },
      "source": [
        "y_pred = logistic_regression.predict(x_test)"
      ],
      "execution_count": null,
      "outputs": []
    },
    {
      "cell_type": "code",
      "metadata": {
        "colab": {
          "base_uri": "https://localhost:8080/"
        },
        "id": "VlUDnNI2d8us",
        "outputId": "7f6baf02-f2c0-4510-acdc-cb8ad7714a5c"
      },
      "source": [
        "accuracy = metrics.accuracy_score(y_test, y_pred)\n",
        "accuracy_percentage = 100 * accuracy\n",
        "accuracy_percentage"
      ],
      "execution_count": null,
      "outputs": [
        {
          "output_type": "execute_result",
          "data": {
            "text/plain": [
              "97.10743801652893"
            ]
          },
          "metadata": {
            "tags": []
          },
          "execution_count": 10
        }
      ]
    },
    {
      "cell_type": "code",
      "metadata": {
        "colab": {
          "base_uri": "https://localhost:8080/"
        },
        "id": "xWmdajWjecte",
        "outputId": "109ac1a3-f48b-4b04-ba0e-ce2960196281"
      },
      "source": [
        "print(logistic_regression.coef_)"
      ],
      "execution_count": null,
      "outputs": [
        {
          "output_type": "stream",
          "text": [
            "[[ 9.9950987  10.93561048 15.66794999  0.15752054]]\n"
          ],
          "name": "stdout"
        }
      ]
    }
  ]
}